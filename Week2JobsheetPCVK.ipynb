{
  "nbformat": 4,
  "nbformat_minor": 0,
  "metadata": {
    "colab": {
      "name": "Week2JobsheetPCVK.ipynb",
      "provenance": [],
      "include_colab_link": true
    },
    "kernelspec": {
      "name": "python3",
      "display_name": "Python 3"
    }
  },
  "cells": [
    {
      "cell_type": "markdown",
      "metadata": {
        "id": "view-in-github",
        "colab_type": "text"
      },
      "source": [
        "<a href=\"https://colab.research.google.com/github/arcparagon/Jobsheet_PVCK2021/blob/main/Week2JobsheetPCVK.ipynb\" target=\"_parent\"><img src=\"https://colab.research.google.com/assets/colab-badge.svg\" alt=\"Open In Colab\"/></a>"
      ]
    },
    {
      "cell_type": "markdown",
      "metadata": {
        "id": "LZMyXrQmA-1y"
      },
      "source": [
        "**Khusus Jobsheet 2 PCVK (Pengolahan Citra dan Visi Komputer)**\n",
        "\n",
        "Nama : Alief Al Gaffari\n",
        "\n",
        "Kelas : TI-3E\n",
        "\n",
        "NIM : 1841720149"
      ]
    },
    {
      "cell_type": "markdown",
      "metadata": {
        "id": "jLl_b07rBoL4"
      },
      "source": [
        "**Praktikum**"
      ]
    },
    {
      "cell_type": "code",
      "metadata": {
        "colab": {
          "base_uri": "https://localhost:8080/"
        },
        "id": "enOV62341tV7",
        "outputId": "59e8aa2a-c3a6-414c-9798-1650949b6f50"
      },
      "source": [
        "from google.colab import drive\n",
        "\n",
        "#Accessing My Google Drive\n",
        "drive.mount('/content/drive')"
      ],
      "execution_count": 2,
      "outputs": [
        {
          "output_type": "stream",
          "text": [
            "Mounted at /content/drive\n"
          ],
          "name": "stdout"
        }
      ]
    },
    {
      "cell_type": "code",
      "metadata": {
        "colab": {
          "base_uri": "https://localhost:8080/",
          "height": 286
        },
        "id": "045XjwhD50Ba",
        "outputId": "c2544b7a-7fd5-45fa-92aa-5bbe8c1cd5d6"
      },
      "source": [
        "import cv2 as cv\n",
        "from google.colab.patches import cv2_imshow\n",
        "from skimage import io\n",
        "import matplotlib.pyplot as plt\n",
        "import numpy as np\n",
        "img = cv.imread('/content/drive/MyDrive/PVCK2021/Week2/download.png')\n",
        "plt.imshow(img)"
      ],
      "execution_count": 3,
      "outputs": [
        {
          "output_type": "execute_result",
          "data": {
            "text/plain": [
              "<matplotlib.image.AxesImage at 0x7f4b12492650>"
            ]
          },
          "metadata": {
            "tags": []
          },
          "execution_count": 3
        },
        {
          "output_type": "display_data",
          "data": {
            "image/png": "[encoded data removed]",
            "text/plain": [
              "<Figure size 432x288 with 1 Axes>"
            ]
          },
          "metadata": {
            "tags": [],
            "needs_background": "light"
          }
        }
      ]
    },
    {
      "cell_type": "code",
      "metadata": {
        "colab": {
          "base_uri": "https://localhost:8080/",
          "height": 286
        },
        "id": "U_ppCGur6jWY",
        "outputId": "60c48198-cec1-4972-956c-a361948d6d74"
      },
      "source": [
        "img2 = img\n",
        "img3 = cv.cvtColor(img,cv.COLOR_BGR2RGB) #converting BGR Channel to RGB\n",
        "plt.imshow(img3)"
      ],
      "execution_count": 4,
      "outputs": [
        {
          "output_type": "execute_result",
          "data": {
            "text/plain": [
              "<matplotlib.image.AxesImage at 0x7f4b11f8ded0>"
            ]
          },
          "metadata": {
            "tags": []
          },
          "execution_count": 4
        },
        {
          "output_type": "display_data",
          "data": {
            "image/png": "[encoded data removed]",
            "text/plain": [
              "<Figure size 432x288 with 1 Axes>"
            ]
          },
          "metadata": {
            "tags": [],
            "needs_background": "light"
          }
        }
      ]
    },
    {
      "cell_type": "markdown",
      "metadata": {
        "id": "oVIpotsw93DU"
      },
      "source": [
        "**TUGAS**"
      ]
    },
    {
      "cell_type": "markdown",
      "metadata": {
        "id": "iki93Wzr97Kf"
      },
      "source": [
        "Nomor 1 :\n",
        "\n",
        "Iya. Karena setiap ukuran pada suatu gambar memiliki pixel yang berbeda pula."
      ]
    },
    {
      "cell_type": "code",
      "metadata": {
        "id": "th72f4E7NkGF",
        "colab": {
          "base_uri": "https://localhost:8080/",
          "height": 232
        },
        "outputId": "8255533d-9145-42e9-b514-182e789d0ce1"
      },
      "source": [
        "plt.figure(figsize=(3,3))\n",
        "plt.imshow(img3)"
      ],
      "execution_count": 5,
      "outputs": [
        {
          "output_type": "execute_result",
          "data": {
            "text/plain": [
              "<matplotlib.image.AxesImage at 0x7f4b11f11f90>"
            ]
          },
          "metadata": {
            "tags": []
          },
          "execution_count": 5
        },
        {
          "output_type": "display_data",
          "data": {
            "image/png": "[encoded data removed]",
            "text/plain": [
              "<Figure size 216x216 with 1 Axes>"
            ]
          },
          "metadata": {
            "tags": [],
            "needs_background": "light"
          }
        }
      ]
    },
    {
      "cell_type": "markdown",
      "metadata": {
        "id": "rB5qPXvbKhAN"
      },
      "source": [
        "Nomor 2 :"
      ]
    },
    {
      "cell_type": "code",
      "metadata": {
        "id": "Xweg7SQeKnGj",
        "colab": {
          "base_uri": "https://localhost:8080/",
          "height": 286
        },
        "outputId": "d44410b9-1ef8-4e54-88df-b86c151db068"
      },
      "source": [
        "#Red - Green Uses\n",
        "img4 = img3\n",
        "img4[:,:,0] = np.zeros([img4.shape[0], img4.shape[1]])\n",
        "plt.imshow(img4)"
      ],
      "execution_count": 6,
      "outputs": [
        {
          "output_type": "execute_result",
          "data": {
            "text/plain": [
              "<matplotlib.image.AxesImage at 0x7f4b11fdd150>"
            ]
          },
          "metadata": {
            "tags": []
          },
          "execution_count": 6
        },
        {
          "output_type": "display_data",
          "data": {
            "image/png": "[encoded data removed]",
            "text/plain": [
              "<Figure size 432x288 with 1 Axes>"
            ]
          },
          "metadata": {
            "tags": [],
            "needs_background": "light"
          }
        }
      ]
    },
    {
      "cell_type": "code",
      "metadata": {
        "id": "pt6FEx5JTuh5",
        "colab": {
          "base_uri": "https://localhost:8080/",
          "height": 286
        },
        "outputId": "10cd6eac-a5a0-4c53-c717-c5ecc50c172c"
      },
      "source": [
        "#Blue - Green Uses\n",
        "img5 = img3\n",
        "img4[:,:,2] = np.zeros([img5.shape[0], img5.shape[1]])\n",
        "plt.imshow(img5)"
      ],
      "execution_count": 7,
      "outputs": [
        {
          "output_type": "execute_result",
          "data": {
            "text/plain": [
              "<matplotlib.image.AxesImage at 0x7f4b11e436d0>"
            ]
          },
          "metadata": {
            "tags": []
          },
          "execution_count": 7
        },
        {
          "output_type": "display_data",
          "data": {
            "image/png": "[encoded data removed]",
            "text/plain": [
              "<Figure size 432x288 with 1 Axes>"
            ]
          },
          "metadata": {
            "tags": [],
            "needs_background": "light"
          }
        }
      ]
    },
    {
      "cell_type": "markdown",
      "metadata": {
        "id": "DgYzG3UGKnX2"
      },
      "source": [
        "Nomor 3 :"
      ]
    },
    {
      "cell_type": "code",
      "metadata": {
        "id": "wyMQbq1sKoiX",
        "colab": {
          "base_uri": "https://localhost:8080/",
          "height": 285
        },
        "outputId": "9a274936-c210-4251-8e7e-bec44f64fba5"
      },
      "source": [
        "img2 = img\n",
        "img3 = cv.cvtColor(img,cv.COLOR_BGR2RGB)\n",
        "plt.imshow(img3[10:100, 10:100])"
      ],
      "execution_count": 8,
      "outputs": [
        {
          "output_type": "execute_result",
          "data": {
            "text/plain": [
              "<matplotlib.image.AxesImage at 0x7f4b11e74b90>"
            ]
          },
          "metadata": {
            "tags": []
          },
          "execution_count": 8
        },
        {
          "output_type": "display_data",
          "data": {
            "image/png": "[encoded data removed]",
            "text/plain": [
              "<Figure size 432x288 with 1 Axes>"
            ]
          },
          "metadata": {
            "tags": [],
            "needs_background": "light"
          }
        }
      ]
    },
    {
      "cell_type": "markdown",
      "metadata": {
        "id": "bLDNuSk7KpTS"
      },
      "source": [
        "Nomor 4 :"
      ]
    },
    {
      "cell_type": "code",
      "metadata": {
        "id": "jMFYHgqJKqm2",
        "colab": {
          "base_uri": "https://localhost:8080/",
          "height": 118
        },
        "outputId": "2101316f-fa10-4d27-a815-d30c50f1b134"
      },
      "source": [
        "plt.imshow(img5[5:30])"
      ],
      "execution_count": 9,
      "outputs": [
        {
          "output_type": "execute_result",
          "data": {
            "text/plain": [
              "<matplotlib.image.AxesImage at 0x7f4b11e40150>"
            ]
          },
          "metadata": {
            "tags": []
          },
          "execution_count": 9
        },
        {
          "output_type": "display_data",
          "data": {
            "image/png": "[encoded data removed]",
            "text/plain": [
              "<Figure size 432x288 with 1 Axes>"
            ]
          },
          "metadata": {
            "tags": [],
            "needs_background": "light"
          }
        }
      ]
    },
    {
      "cell_type": "markdown",
      "metadata": {
        "id": "ezgdWxXSKqzn"
      },
      "source": [
        "Nomor 5 :"
      ]
    },
    {
      "cell_type": "code",
      "metadata": {
        "id": "qjD6FBhaKr5D",
        "colab": {
          "base_uri": "https://localhost:8080/",
          "height": 269
        },
        "outputId": "6b036321-c6b5-4e5b-f332-2ea52402c2e4"
      },
      "source": [
        "import random\n",
        "\n",
        "img6 = cv.cvtColor(img,cv.COLOR_BGR2RGB)\n",
        "for x in range(6) :\n",
        "  startp = random.randint(0,400)\n",
        "  endp = random.randint(0,400)\n",
        "\n",
        "  c1 = random.randint(0,255)\n",
        "  c2 = random.randint(0,255)\n",
        "  c3 = random.randint(0,255)\n",
        "  start_point = (startp, startp)\n",
        "\n",
        "  end_point = (endp, endp)\n",
        "\n",
        "  color = (c1,c2,c3)\n",
        "\n",
        "  thickness = 2\n",
        "\n",
        "  img6 = cv.rectangle(img3, start_point, end_point, color, thickness)\n",
        "\n",
        "  plt.imshow(img6)"
      ],
      "execution_count": 10,
      "outputs": [
        {
          "output_type": "display_data",
          "data": {
            "image/png": "[encoded data removed]",
            "text/plain": [
              "<Figure size 432x288 with 1 Axes>"
            ]
          },
          "metadata": {
            "tags": [],
            "needs_background": "light"
          }
        }
      ]
    },
    {
      "cell_type": "markdown",
      "metadata": {
        "id": "aenSsbDEKse-"
      },
      "source": [
        "Nomor 6 :"
      ]
    },
    {
      "cell_type": "code",
      "metadata": {
        "id": "qFdlgremKtbk",
        "colab": {
          "base_uri": "https://localhost:8080/",
          "height": 286
        },
        "outputId": "09dfe37c-c074-4cf7-d24d-0d6e9806b543"
      },
      "source": [
        "img7 = cv.flip(cv.cvtColor(img,cv.COLOR_BGR2RGB),0)\n",
        "plt.imshow(img7)"
      ],
      "execution_count": 11,
      "outputs": [
        {
          "output_type": "execute_result",
          "data": {
            "text/plain": [
              "<matplotlib.image.AxesImage at 0x7f4b11e6a3d0>"
            ]
          },
          "metadata": {
            "tags": []
          },
          "execution_count": 11
        },
        {
          "output_type": "display_data",
          "data": {
            "image/png": "[encoded data removed]",
            "text/plain": [
              "<Figure size 432x288 with 1 Axes>"
            ]
          },
          "metadata": {
            "tags": [],
            "needs_background": "light"
          }
        }
      ]
    },
    {
      "cell_type": "code",
      "metadata": {
        "colab": {
          "base_uri": "https://localhost:8080/",
          "height": 286
        },
        "id": "ZGYj66Me8LX8",
        "outputId": "6bb78177-9003-48f5-a456-7c140316445f"
      },
      "source": [
        "img_gray = cv.imread('/content/drive/MyDrive/PVCK2021/Week2/download.png', cv.IMREAD_GRAYSCALE)\n",
        "plt.imshow(img_gray)"
      ],
      "execution_count": 13,
      "outputs": [
        {
          "output_type": "execute_result",
          "data": {
            "text/plain": [
              "<matplotlib.image.AxesImage at 0x7f4b11bf8390>"
            ]
          },
          "metadata": {
            "tags": []
          },
          "execution_count": 13
        },
        {
          "output_type": "display_data",
          "data": {
            "image/png": "[encoded data removed]",
            "text/plain": [
              "<Figure size 432x288 with 1 Axes>"
            ]
          },
          "metadata": {
            "tags": [],
            "needs_background": "light"
          }
        }
      ]
    },
    {
      "cell_type": "code",
      "metadata": {
        "colab": {
          "base_uri": "https://localhost:8080/",
          "height": 286
        },
        "id": "XGDcrbggDQlM",
        "outputId": "0352d70d-52b1-4fed-f4d4-74f357468212"
      },
      "source": [
        "plt.imshow(img_gray, cmap='gray')"
      ],
      "execution_count": 14,
      "outputs": [
        {
          "output_type": "execute_result",
          "data": {
            "text/plain": [
              "<matplotlib.image.AxesImage at 0x7f4b11b808d0>"
            ]
          },
          "metadata": {
            "tags": []
          },
          "execution_count": 14
        },
        {
          "output_type": "display_data",
          "data": {
            "image/png": "[encoded data removed]",
            "text/plain": [
              "<Figure size 432x288 with 1 Axes>"
            ]
          },
          "metadata": {
            "tags": [],
            "needs_background": "light"
          }
        }
      ]
    },
    {
      "cell_type": "code",
      "metadata": {
        "colab": {
          "base_uri": "https://localhost:8080/",
          "height": 286
        },
        "id": "xjBRDjsGDZTt",
        "outputId": "091eae3f-570b-4b95-c5bb-e50f3ffbb3cc"
      },
      "source": [
        "plt.imshow(img_gray, cmap='magma')"
      ],
      "execution_count": 16,
      "outputs": [
        {
          "output_type": "execute_result",
          "data": {
            "text/plain": [
              "<matplotlib.image.AxesImage at 0x7f4b11b26050>"
            ]
          },
          "metadata": {
            "tags": []
          },
          "execution_count": 16
        },
        {
          "output_type": "display_data",
          "data": {
            "image/png": "[encoded data removed]",
            "text/plain": [
              "<Figure size 432x288 with 1 Axes>"
            ]
          },
          "metadata": {
            "tags": [],
            "needs_background": "light"
          }
        }
      ]
    },
    {
      "cell_type": "code",
      "metadata": {
        "colab": {
          "base_uri": "https://localhost:8080/",
          "height": 286
        },
        "id": "RrvSTzhjDtZ4",
        "outputId": "8bf44c1e-b056-4a60-c19c-3722caeb64c9"
      },
      "source": [
        "img4 = cv.resize(cv.cvtColor(img,cv.COLOR_BGR2RGB), (512,1024))\n",
        "plt.imshow(img4)"
      ],
      "execution_count": 15,
      "outputs": [
        {
          "output_type": "execute_result",
          "data": {
            "text/plain": [
              "<matplotlib.image.AxesImage at 0x7f4b11c6cd90>"
            ]
          },
          "metadata": {
            "tags": []
          },
          "execution_count": 15
        },
        {
          "output_type": "display_data",
          "data": {
            "image/png": "[encoded data removed]",
            "text/plain": [
              "<Figure size 432x288 with 1 Axes>"
            ]
          },
          "metadata": {
            "tags": [],
            "needs_background": "light"
          }
        }
      ]
    },
    {
      "cell_type": "code",
      "metadata": {
        "colab": {
          "base_uri": "https://localhost:8080/",
          "height": 612
        },
        "id": "EI4OSY0lD9Rr",
        "outputId": "1cb2766d-d08f-4a6c-f8b3-5d697657cb82"
      },
      "source": [
        "img5 = cv.flip(cv.cvtColor(img,cv.COLOR_BGR2RGB),0)\n",
        "fig = plt.figure(figsize=(10,10))\n",
        "ax = fig.add_subplot(111)\n",
        "ax.imshow(img5)"
      ],
      "execution_count": 17,
      "outputs": [
        {
          "output_type": "execute_result",
          "data": {
            "text/plain": [
              "<matplotlib.image.AxesImage at 0x7f4b11af6890>"
            ]
          },
          "metadata": {
            "tags": []
          },
          "execution_count": 17
        },
        {
          "output_type": "display_data",
          "data": {
            "image/png": "[encoded data removed]",
            "text/plain": [
              "<Figure size 720x720 with 1 Axes>"
            ]
          },
          "metadata": {
            "tags": [],
            "needs_background": "light"
          }
        }
      ]
    },
    {
      "cell_type": "code",
      "metadata": {
        "colab": {
          "base_uri": "https://localhost:8080/",
          "height": 286
        },
        "id": "PPaz_INDEn28",
        "outputId": "26c1f034-5196-44e0-b123-8ee947d167b1"
      },
      "source": [
        "black_img = np.zeros(shape=(512,512,3),dtype=np.int16)\n",
        "plt.imshow(black_img)"
      ],
      "execution_count": 18,
      "outputs": [
        {
          "output_type": "execute_result",
          "data": {
            "text/plain": [
              "<matplotlib.image.AxesImage at 0x7f4b11a09450>"
            ]
          },
          "metadata": {
            "tags": []
          },
          "execution_count": 18
        },
        {
          "output_type": "display_data",
          "data": {
            "image/png": "[encoded data removed]",
            "text/plain": [
              "<Figure size 432x288 with 1 Axes>"
            ]
          },
          "metadata": {
            "tags": [],
            "needs_background": "light"
          }
        }
      ]
    },
    {
      "cell_type": "code",
      "metadata": {
        "colab": {
          "base_uri": "https://localhost:8080/",
          "height": 286
        },
        "id": "G-oPo24oGpQu",
        "outputId": "5aba3d92-53e0-4fca-c39c-45aab73a155a"
      },
      "source": [
        "cv.rectangle(black_img,pt1=(384,0),pt2=(510,150),color=(0,255,0),thickness=10)\n",
        "plt.imshow(black_img)"
      ],
      "execution_count": 19,
      "outputs": [
        {
          "output_type": "execute_result",
          "data": {
            "text/plain": [
              "<matplotlib.image.AxesImage at 0x7f4b1197b710>"
            ]
          },
          "metadata": {
            "tags": []
          },
          "execution_count": 19
        },
        {
          "output_type": "display_data",
          "data": {
            "image/png": "[encoded data removed]",
            "text/plain": [
              "<Figure size 432x288 with 1 Axes>"
            ]
          },
          "metadata": {
            "tags": [],
            "needs_background": "light"
          }
        }
      ]
    },
    {
      "cell_type": "code",
      "metadata": {
        "colab": {
          "base_uri": "https://localhost:8080/",
          "height": 286
        },
        "id": "fAAq2hjGHzmx",
        "outputId": "633af9bf-a447-4ee1-dd10-97af3a2eef26"
      },
      "source": [
        "cv.rectangle(black_img,pt1=(200,200),pt2=(300,300),color=(0,0,255),thickness=15)\n",
        "plt.imshow(black_img)"
      ],
      "execution_count": 20,
      "outputs": [
        {
          "output_type": "execute_result",
          "data": {
            "text/plain": [
              "<matplotlib.image.AxesImage at 0x7f4b119684d0>"
            ]
          },
          "metadata": {
            "tags": []
          },
          "execution_count": 20
        },
        {
          "output_type": "display_data",
          "data": {
            "image/png": "[encoded data removed]",
            "text/plain": [
              "<Figure size 432x288 with 1 Axes>"
            ]
          },
          "metadata": {
            "tags": [],
            "needs_background": "light"
          }
        }
      ]
    },
    {
      "cell_type": "code",
      "metadata": {
        "colab": {
          "base_uri": "https://localhost:8080/",
          "height": 286
        },
        "id": "zeHOR6x3IHoo",
        "outputId": "1418f390-969c-4f07-d280-916fda482b03"
      },
      "source": [
        "cv.circle(black_img,center=(100,100),radius=50,color=(255,0,0),thickness=8)\n",
        "plt.imshow(black_img)"
      ],
      "execution_count": 21,
      "outputs": [
        {
          "output_type": "execute_result",
          "data": {
            "text/plain": [
              "<matplotlib.image.AxesImage at 0x7f4b118c3890>"
            ]
          },
          "metadata": {
            "tags": []
          },
          "execution_count": 21
        },
        {
          "output_type": "display_data",
          "data": {
            "image/png": "[encoded data removed]",
            "text/plain": [
              "<Figure size 432x288 with 1 Axes>"
            ]
          },
          "metadata": {
            "tags": [],
            "needs_background": "light"
          }
        }
      ]
    },
    {
      "cell_type": "code",
      "metadata": {
        "colab": {
          "base_uri": "https://localhost:8080/",
          "height": 286
        },
        "id": "sFROBCPMIaO4",
        "outputId": "abae98d0-9435-44f3-961a-3645af5bc073"
      },
      "source": [
        "cv.line(black_img,pt1=(0,0),pt2=(512,512),color=(255,255,255),thickness=5)\n",
        "plt.imshow(black_img)"
      ],
      "execution_count": 22,
      "outputs": [
        {
          "output_type": "execute_result",
          "data": {
            "text/plain": [
              "<matplotlib.image.AxesImage at 0x7f4b11841bd0>"
            ]
          },
          "metadata": {
            "tags": []
          },
          "execution_count": 22
        },
        {
          "output_type": "display_data",
          "data": {
            "image/png": "[encoded data removed]",
            "text/plain": [
              "<Figure size 432x288 with 1 Axes>"
            ]
          },
          "metadata": {
            "tags": [],
            "needs_background": "light"
          }
        }
      ]
    },
    {
      "cell_type": "code",
      "metadata": {
        "colab": {
          "base_uri": "https://localhost:8080/",
          "height": 286
        },
        "id": "_U9YmPUvIoQz",
        "outputId": "12a1093f-a19c-4a6d-dbbd-e90f4c07141e"
      },
      "source": [
        "font = cv.FONT_HERSHEY_SIMPLEX\n",
        "cv.putText(black_img,text='Hola',org=(10,500),fontFace=font,fontScale=4,color=(255,255,0),thickness=2,lineType=cv.LINE_AA)\n",
        "plt.imshow(black_img)"
      ],
      "execution_count": 23,
      "outputs": [
        {
          "output_type": "execute_result",
          "data": {
            "text/plain": [
              "<matplotlib.image.AxesImage at 0x7f4b1180bd50>"
            ]
          },
          "metadata": {
            "tags": []
          },
          "execution_count": 23
        },
        {
          "output_type": "display_data",
          "data": {
            "image/png": "[encoded data removed]",
            "text/plain": [
              "<Figure size 432x288 with 1 Axes>"
            ]
          },
          "metadata": {
            "tags": [],
            "needs_background": "light"
          }
        }
      ]
    },
    {
      "cell_type": "code",
      "metadata": {
        "colab": {
          "base_uri": "https://localhost:8080/",
          "height": 286
        },
        "id": "79o6V_CoJAwU",
        "outputId": "56a2528a-d211-4095-e91c-852d609e84e9"
      },
      "source": [
        "black_img2=np.zeros(shape=(512,512,3),dtype=np.int32)\n",
        "plt.imshow(black_img2)"
      ],
      "execution_count": 24,
      "outputs": [
        {
          "output_type": "execute_result",
          "data": {
            "text/plain": [
              "<matplotlib.image.AxesImage at 0x7f4b1177d310>"
            ]
          },
          "metadata": {
            "tags": []
          },
          "execution_count": 24
        },
        {
          "output_type": "display_data",
          "data": {
            "image/png": "[encoded data removed]",
            "text/plain": [
              "<Figure size 432x288 with 1 Axes>"
            ]
          },
          "metadata": {
            "tags": [],
            "needs_background": "light"
          }
        }
      ]
    },
    {
      "cell_type": "code",
      "metadata": {
        "colab": {
          "base_uri": "https://localhost:8080/"
        },
        "id": "4B4jICFyJNWe",
        "outputId": "16614305-0da8-4d7d-87ce-367979fdbd03"
      },
      "source": [
        "verticies = np.array([[100,300],[200,200],[400,300],[200,400]],dtype=np.int32)\n",
        "verticies"
      ],
      "execution_count": 25,
      "outputs": [
        {
          "output_type": "execute_result",
          "data": {
            "text/plain": [
              "array([[100, 300],\n",
              "       [200, 200],\n",
              "       [400, 300],\n",
              "       [200, 400]], dtype=int32)"
            ]
          },
          "metadata": {
            "tags": []
          },
          "execution_count": 25
        }
      ]
    },
    {
      "cell_type": "code",
      "metadata": {
        "colab": {
          "base_uri": "https://localhost:8080/"
        },
        "id": "lKrdrplPJacz",
        "outputId": "a70abc03-dc2c-48b4-98c2-f2dde51e793f"
      },
      "source": [
        "pts = verticies.reshape((-1,1,2))\n",
        "pts"
      ],
      "execution_count": null,
      "outputs": [
        {
          "output_type": "execute_result",
          "data": {
            "text/plain": [
              "array([[[100, 300]],\n",
              "\n",
              "       [[200, 200]],\n",
              "\n",
              "       [[400, 300]],\n",
              "\n",
              "       [[200, 400]]], dtype=int32)"
            ]
          },
          "metadata": {
            "tags": []
          },
          "execution_count": 37
        }
      ]
    },
    {
      "cell_type": "code",
      "metadata": {
        "colab": {
          "base_uri": "https://localhost:8080/",
          "height": 286
        },
        "id": "45LXqM_QJi4Q",
        "outputId": "f5b7d47b-60d9-41b1-b819-af4d5c18632d"
      },
      "source": [
        "cv.polylines(black_img2,[pts],isClosed=True,color=(255,0,0),thickness=5)\n",
        "plt.imshow(black_img2)"
      ],
      "execution_count": null,
      "outputs": [
        {
          "output_type": "execute_result",
          "data": {
            "text/plain": [
              "<matplotlib.image.AxesImage at 0x7f8c7197b4e0>"
            ]
          },
          "metadata": {
            "tags": []
          },
          "execution_count": 38
        },
        {
          "output_type": "display_data",
          "data": {
            "image/png": "[encoded data removed]",
            "text/plain": [
              "<Figure size 432x288 with 1 Axes>"
            ]
          },
          "metadata": {
            "tags": [],
            "needs_background": "light"
          }
        }
      ]
    },
    {
      "cell_type": "markdown",
      "metadata": {
        "id": "31NNG3Q6KGRP"
      },
      "source": [
        "**TUGAS**"
      ]
    },
    {
      "cell_type": "markdown",
      "metadata": {
        "id": "UVwOVjKJKJql"
      },
      "source": [
        "Nomor 1"
      ]
    },
    {
      "cell_type": "code",
      "metadata": {
        "id": "pELkU20zKImT"
      },
      "source": [
        ""
      ],
      "execution_count": null,
      "outputs": []
    },
    {
      "cell_type": "markdown",
      "metadata": {
        "id": "K296GwZaKLnv"
      },
      "source": [
        "Nomor 2"
      ]
    },
    {
      "cell_type": "code",
      "metadata": {
        "id": "fjcxXDhaKMt8"
      },
      "source": [
        ""
      ],
      "execution_count": null,
      "outputs": []
    },
    {
      "cell_type": "markdown",
      "metadata": {
        "id": "SL7aUIEBKNWl"
      },
      "source": [
        "Nomor 3"
      ]
    },
    {
      "cell_type": "code",
      "metadata": {
        "id": "vXKss2PjKOQO"
      },
      "source": [
        ""
      ],
      "execution_count": null,
      "outputs": []
    },
    {
      "cell_type": "markdown",
      "metadata": {
        "id": "1_WjCaLsLU9i"
      },
      "source": [
        "**Pertanyaan**"
      ]
    },
    {
      "cell_type": "markdown",
      "metadata": {
        "id": "sorlLfVYLZD6"
      },
      "source": [
        "Nomor 1 :\n",
        "\n",
        "Tanpa matplotlib -> Gambar yang dihasilkan akan menjadi hitam saja\n",
        "\n",
        "Dengan matplotlib -> Mampu mendeteksi warna apa saja yang ada pada gambar\n",
        "\n",
        "Nomor 2 :\n",
        "\n",
        "Perbedaannya terletak pada kualitas black image. Jika 16bit, maka akan menghasilkan pixel sebanyak 16. Begitu juga dengan 32 bit.\n",
        "\n",
        "Nomor 3 :\n",
        "\n",
        "Mengimport gambar dari URL yang disisipkan\n",
        "\n",
        "Nomor 4 :\n",
        "\n",
        "Mengimport skimage untuk mencetak hasil citra gambar"
      ]
    }
  ]
}